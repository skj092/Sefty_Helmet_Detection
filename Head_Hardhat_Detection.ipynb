{
  "nbformat": 4,
  "nbformat_minor": 0,
  "metadata": {
    "colab": {
      "provenance": [],
      "collapsed_sections": [],
      "authorship_tag": "ABX9TyOQFjkEIEXqaS/FiTNWylgX",
      "include_colab_link": true
    },
    "kernelspec": {
      "name": "python3",
      "display_name": "Python 3"
    },
    "language_info": {
      "name": "python"
    },
    "accelerator": "GPU",
    "gpuClass": "standard"
  },
  "cells": [
    {
      "cell_type": "markdown",
      "metadata": {
        "id": "view-in-github",
        "colab_type": "text"
      },
      "source": [
        "<a href=\"https://colab.research.google.com/github/skj092/Sefty_Helmet_Detection/blob/main/Head_Hardhat_Detection.ipynb\" target=\"_parent\"><img src=\"https://colab.research.google.com/assets/colab-badge.svg\" alt=\"Open In Colab\"/></a>"
      ]
    },
    {
      "cell_type": "code",
      "source": [
        "from google.colab import drive\n",
        "drive.mount('/content/drive')"
      ],
      "metadata": {
        "colab": {
          "base_uri": "https://localhost:8080/"
        },
        "id": "gnKAhYyM2F36",
        "outputId": "40d64285-7fd8-4a8b-99d6-b84934b27fa3"
      },
      "execution_count": 1,
      "outputs": [
        {
          "output_type": "stream",
          "name": "stdout",
          "text": [
            "Mounted at /content/drive\n"
          ]
        }
      ]
    },
    {
      "cell_type": "code",
      "source": [
        "import os \n",
        "\n",
        "os.chdir(\"/content/drive/MyDrive/Projects/Head-Hardhet-Detection\")"
      ],
      "metadata": {
        "id": "XukJpsKF2Go2"
      },
      "execution_count": 2,
      "outputs": []
    },
    {
      "cell_type": "code",
      "source": [
        "# # # Unzip dataset\n",
        "# !unzip -q HardHat_Dataset/Dataset.zip  -d HardHat_Dataset/"
      ],
      "metadata": {
        "id": "ofME5wHETqKB"
      },
      "execution_count": 35,
      "outputs": []
    },
    {
      "cell_type": "code",
      "source": [
        "!unzip -q HardHat_Dataset/Dataset/HardHat_Dataset.zip -d HardHat_Dataset"
      ],
      "metadata": {
        "id": "VvhkQ4b3T_p2"
      },
      "execution_count": 48,
      "outputs": []
    },
    {
      "cell_type": "code",
      "source": [
        "# this script will convert xml to yolo format\n",
        "\n",
        "import os\n",
        "from glob import glob\n",
        "from pathlib import Path\n",
        "import cv2\n",
        "import xml.etree.ElementTree as ET\n",
        "import numpy as np \n",
        "from tqdm import tqdm\n",
        "\n",
        "\n",
        "root = Path('HardHat_Dataset')\n",
        "annotations = list(root.glob('annotations/*.xml'))\n",
        "output_path = root / 'labels'\n",
        "\n",
        "# create a directory for yolo format\n",
        "if not os.path.exists(root / 'labels'):\n",
        "    os.makedirs(root / 'labels')\n",
        "\n",
        "lbl = ['head', 'helmet','person']\n",
        "\n",
        "for annot in tqdm(annotations):\n",
        "    tree = ET.parse(annot)\n",
        "    root = tree.getroot()\n",
        "    img_path = os.path.join('HardHat_Dataset/images', os.path.basename(annot).replace('.xml', '.png'))\n",
        "    img = cv2.imread(img_path)\n",
        "    height, width, _ = img.shape\n",
        "    objects = root.findall('object')\n",
        "    yolo_data = []\n",
        "    for obj in objects:\n",
        "        name = obj.find('name').text\n",
        "        # replace the class \"person\" with \"head\"\n",
        "        if name == 'person':\n",
        "            name = 'head'\n",
        "        xmin = int(obj.find('bndbox/xmin').text)\n",
        "        ymin = int(obj.find('bndbox/ymin').text)\n",
        "        xmax = int(obj.find('bndbox/xmax').text)\n",
        "        ymax = int(obj.find('bndbox/ymax').text)\n",
        "        x_center = (xmin + xmax) / (2 * width)\n",
        "        y_center = (ymin + ymax) / (2 * height)\n",
        "        w = (xmax - xmin) / width\n",
        "        h = (ymax - ymin) / height\n",
        "        yolo_data.append([lbl.index(name), x_center, y_center, w, h])\n",
        "    yolo_data = np.array(yolo_data)\n",
        "    np.savetxt(output_path / (os.path.basename(annot).replace('.xml', '.txt')), yolo_data, fmt=['%d', '%f', '%f', '%f', '%f'])"
      ],
      "metadata": {
        "colab": {
          "base_uri": "https://localhost:8080/"
        },
        "id": "iuWLqWWATT9x",
        "outputId": "33eed140-6ea4-4f77-b9f3-cf3d94f17b17"
      },
      "execution_count": 49,
      "outputs": [
        {
          "output_type": "stream",
          "name": "stderr",
          "text": [
            "100%|██████████| 4750/4750 [01:33<00:00, 50.68it/s]\n"
          ]
        }
      ]
    },
    {
      "cell_type": "code",
      "source": [
        "# Dividing the data into training and testing sets\n",
        "\n",
        "# Importing the libraries\n",
        "import os \n",
        "from glob import glob\n",
        "import random \n",
        "import cv2 \n",
        "import shutil\n",
        "from pathlib import Path\n",
        "from tqdm import tqdm\n",
        "\n",
        "p = Path('.')\n",
        "data_dir = Path('HardHat_Dataset')\n",
        "img_dir = data_dir/'images/'\n",
        "annot_dir = data_dir/'labels'\n",
        "\n",
        "# Creating a list of all the images\n",
        "all_images = list(p.glob(f'{img_dir}/*.png'))\n",
        "\n",
        "# shuffling the data\n",
        "random.shuffle(all_images)\n",
        "# Splitting the data into training and testing sets\n",
        "train_images = all_images[:int(0.8*len(all_images))]\n",
        "test_images = all_images[int(0.8*len(all_images)):]\n",
        "# print('langth of train and test set are:', len(train_images), len(test_images))\n",
        "\n",
        "# # Splitting the data \n",
        "if not os.path.exists(data_dir/'processed'):\n",
        "    os.makedirs(data_dir/'processed')\n",
        "    os.makedirs(data_dir/'processed'/'train')\n",
        "    os.makedirs(data_dir/'processed'/'test')\n",
        "    os.makedirs(data_dir/'processed'/'train'/'images')\n",
        "    os.makedirs(data_dir/'processed'/'train'/'labels')\n",
        "    os.makedirs(data_dir/'processed'/'test'/'images')\n",
        "    os.makedirs(data_dir/'processed'/'test'/'labels')\n",
        "\n",
        "\n",
        "# removing train and test folder \n",
        "# shutil.rmtree(path=data_dir/'processed')\n",
        "\n",
        "\n",
        "# Copying the images and annotations into the train and test folder\n",
        "for source in tqdm(all_images):\n",
        "    destination_img = os.path.join(data_dir/'processed'/'train'/'images', os.path.basename(source))\n",
        "    destination_annot = os.path.join(data_dir/'processed'/'train'/'labels', os.path.basename(source).replace('.png', '.txt'))\n",
        "    shutil.copy(source, destination_img)\n",
        "    source_annot = os.path.join(annot_dir, os.path.basename(source).replace('.png', '.txt'))\n",
        "    shutil.copy(source_annot, destination_annot)\n",
        "\n",
        "for source in tqdm(test_images):\n",
        "    destination_img = os.path.join(data_dir/'processed'/'test'/'images', os.path.basename(source))\n",
        "    destination_annot = os.path.join(data_dir/'processed'/'test'/'labels', os.path.basename(source).replace('.png', '.txt'))\n",
        "    shutil.copy(source, destination_img)\n",
        "    source_annot = os.path.join(annot_dir, os.path.basename(source).replace('.png', '.txt'))\n",
        "    shutil.copy(source_annot, destination_annot)"
      ],
      "metadata": {
        "colab": {
          "base_uri": "https://localhost:8080/"
        },
        "id": "tTBRpMFcSd5V",
        "outputId": "9e162fc3-49fe-402c-8610-315f0e271340"
      },
      "execution_count": 50,
      "outputs": [
        {
          "output_type": "stream",
          "name": "stderr",
          "text": [
            "100%|██████████| 4750/4750 [01:25<00:00, 55.26it/s]\n",
            "100%|██████████| 950/950 [00:15<00:00, 63.16it/s]\n"
          ]
        }
      ]
    },
    {
      "cell_type": "code",
      "source": [
        "!ls"
      ],
      "metadata": {
        "colab": {
          "base_uri": "https://localhost:8080/"
        },
        "id": "FoARluheaniu",
        "outputId": "14b23ce6-ea63-4065-923e-64bac43509ca"
      },
      "execution_count": 51,
      "outputs": [
        {
          "output_type": "stream",
          "name": "stdout",
          "text": [
            "Dataset  data.yaml  HardHat_Dataset  Images  label_fix.py  yolov5\n"
          ]
        }
      ]
    },
    {
      "cell_type": "code",
      "source": [
        "yaml_text = \"\"\"train: ../HardHat_Dataset/processed/train\n",
        "val: ../HardHat_Dataset/processed/test\n",
        "\n",
        "nc: 2\n",
        "names: ['Head','Helmet']\"\"\""
      ],
      "metadata": {
        "id": "ZpDwlIcWVUSq"
      },
      "execution_count": 52,
      "outputs": []
    },
    {
      "cell_type": "code",
      "source": [
        "with open(\"data.yaml\", 'w') as f:\n",
        "    f.write(yaml_text)\n",
        "%cat data.yaml"
      ],
      "metadata": {
        "id": "9P2YwucBVbuW",
        "colab": {
          "base_uri": "https://localhost:8080/"
        },
        "outputId": "6cea03b3-4eee-4f58-99b7-f001b5c613d1"
      },
      "execution_count": 53,
      "outputs": [
        {
          "output_type": "stream",
          "name": "stdout",
          "text": [
            "train: ../HardHat_Dataset/processed/train\n",
            "val: ../HardHat_Dataset/processed/test\n",
            "\n",
            "nc: 2\n",
            "names: ['Head','Helmet']"
          ]
        }
      ]
    },
    {
      "cell_type": "code",
      "source": [
        "!pwd"
      ],
      "metadata": {
        "colab": {
          "base_uri": "https://localhost:8080/"
        },
        "id": "gfohaBy-W2P0",
        "outputId": "a9461ac7-14a5-4e8c-bed3-aa898c14ae69"
      },
      "execution_count": 54,
      "outputs": [
        {
          "output_type": "stream",
          "name": "stdout",
          "text": [
            "/content/drive/MyDrive/Projects/Head-Hardhet-Detection\n"
          ]
        }
      ]
    },
    {
      "cell_type": "code",
      "source": [
        "!ls"
      ],
      "metadata": {
        "colab": {
          "base_uri": "https://localhost:8080/"
        },
        "id": "7pQWWTi7axA3",
        "outputId": "a92713cd-6dce-44f4-f861-bbc6f24714ad"
      },
      "execution_count": 55,
      "outputs": [
        {
          "output_type": "stream",
          "name": "stdout",
          "text": [
            "Dataset  data.yaml  HardHat_Dataset  Images  label_fix.py  yolov5\n"
          ]
        }
      ]
    },
    {
      "cell_type": "code",
      "source": [
        "# check the assigned GPU type\n",
        "!nvidia-smi"
      ],
      "metadata": {
        "id": "h1Ja2JCUWZ62",
        "colab": {
          "base_uri": "https://localhost:8080/"
        },
        "outputId": "9bf45301-47d6-4030-bb15-c4869d0fb693"
      },
      "execution_count": 56,
      "outputs": [
        {
          "output_type": "stream",
          "name": "stdout",
          "text": [
            "Wed Nov  9 02:50:28 2022       \n",
            "+-----------------------------------------------------------------------------+\n",
            "| NVIDIA-SMI 460.32.03    Driver Version: 460.32.03    CUDA Version: 11.2     |\n",
            "|-------------------------------+----------------------+----------------------+\n",
            "| GPU  Name        Persistence-M| Bus-Id        Disp.A | Volatile Uncorr. ECC |\n",
            "| Fan  Temp  Perf  Pwr:Usage/Cap|         Memory-Usage | GPU-Util  Compute M. |\n",
            "|                               |                      |               MIG M. |\n",
            "|===============================+======================+======================|\n",
            "|   0  Tesla T4            Off  | 00000000:00:04.0 Off |                    0 |\n",
            "| N/A   37C    P8     9W /  70W |      0MiB / 15109MiB |      0%      Default |\n",
            "|                               |                      |                  N/A |\n",
            "+-------------------------------+----------------------+----------------------+\n",
            "                                                                               \n",
            "+-----------------------------------------------------------------------------+\n",
            "| Processes:                                                                  |\n",
            "|  GPU   GI   CI        PID   Type   Process name                  GPU Memory |\n",
            "|        ID   ID                                                   Usage      |\n",
            "|=============================================================================|\n",
            "|  No running processes found                                                 |\n",
            "+-----------------------------------------------------------------------------+\n"
          ]
        }
      ]
    },
    {
      "cell_type": "code",
      "source": [
        "# YOLO \n",
        "# !git clone https://github.com/ultralytics/yolov5  && cd yolov5 && pip install -r requirements.txt"
      ],
      "metadata": {
        "id": "ro-SrWUoWN0w"
      },
      "execution_count": 57,
      "outputs": []
    },
    {
      "cell_type": "code",
      "source": [
        "!python ./yolov5/train.py --img 512 --batch 16 --epochs 100 --workers 2 --data data.yaml --cfg \"./yolov5/models/yolov5s.yaml\" --name yolov5x_helmet --cache"
      ],
      "metadata": {
        "colab": {
          "base_uri": "https://localhost:8080/"
        },
        "id": "Vcd9U1FqWVDu",
        "outputId": "95b55dad-1fdb-4cb3-a959-89d99055363d"
      },
      "execution_count": 58,
      "outputs": [
        {
          "output_type": "stream",
          "name": "stdout",
          "text": [
            "\u001b[34m\u001b[1mtrain: \u001b[0mweights=yolov5/yolov5s.pt, cfg=./yolov5/models/yolov5s.yaml, data=data.yaml, hyp=yolov5/data/hyps/hyp.scratch-low.yaml, epochs=100, batch_size=16, imgsz=512, rect=False, resume=False, nosave=False, noval=False, noautoanchor=False, noplots=False, evolve=None, bucket=, cache=ram, image_weights=False, device=, multi_scale=False, single_cls=False, optimizer=SGD, sync_bn=False, workers=2, project=yolov5/runs/train, name=yolov5x_helmet, exist_ok=False, quad=False, cos_lr=False, label_smoothing=0.0, patience=100, freeze=[0], save_period=-1, seed=0, local_rank=-1, entity=None, upload_dataset=False, bbox_interval=-1, artifact_alias=latest\n",
            "\u001b[34m\u001b[1mgithub: \u001b[0m⚠️ YOLOv5 is out of date by 3 commits. Use `git pull` or `git clone https://github.com/ultralytics/yolov5` to update.\n",
            "YOLOv5 🚀 v6.2-228-g6ae3dff Python-3.7.15 torch-1.12.1+cu113 CUDA:0 (Tesla T4, 15110MiB)\n",
            "\n",
            "\u001b[34m\u001b[1mhyperparameters: \u001b[0mlr0=0.01, lrf=0.01, momentum=0.937, weight_decay=0.0005, warmup_epochs=3.0, warmup_momentum=0.8, warmup_bias_lr=0.1, box=0.05, cls=0.5, cls_pw=1.0, obj=1.0, obj_pw=1.0, iou_t=0.2, anchor_t=4.0, fl_gamma=0.0, hsv_h=0.015, hsv_s=0.7, hsv_v=0.4, degrees=0.0, translate=0.1, scale=0.5, shear=0.0, perspective=0.0, flipud=0.0, fliplr=0.5, mosaic=1.0, mixup=0.0, copy_paste=0.0\n",
            "\u001b[34m\u001b[1mClearML: \u001b[0mrun 'pip install clearml' to automatically track, visualize and remotely train YOLOv5 🚀 in ClearML\n",
            "\u001b[34m\u001b[1mComet: \u001b[0mrun 'pip install comet_ml' to automatically track and visualize YOLOv5 🚀 runs in Comet\n",
            "\u001b[34m\u001b[1mTensorBoard: \u001b[0mStart with 'tensorboard --logdir yolov5/runs/train', view at http://localhost:6006/\n",
            "Overriding model.yaml nc=80 with nc=2\n",
            "\n",
            "                 from  n    params  module                                  arguments                     \n",
            "  0                -1  1      3520  models.common.Conv                      [3, 32, 6, 2, 2]              \n",
            "  1                -1  1     18560  models.common.Conv                      [32, 64, 3, 2]                \n",
            "  2                -1  1     18816  models.common.C3                        [64, 64, 1]                   \n",
            "  3                -1  1     73984  models.common.Conv                      [64, 128, 3, 2]               \n",
            "  4                -1  2    115712  models.common.C3                        [128, 128, 2]                 \n",
            "  5                -1  1    295424  models.common.Conv                      [128, 256, 3, 2]              \n",
            "  6                -1  3    625152  models.common.C3                        [256, 256, 3]                 \n",
            "  7                -1  1   1180672  models.common.Conv                      [256, 512, 3, 2]              \n",
            "  8                -1  1   1182720  models.common.C3                        [512, 512, 1]                 \n",
            "  9                -1  1    656896  models.common.SPPF                      [512, 512, 5]                 \n",
            " 10                -1  1    131584  models.common.Conv                      [512, 256, 1, 1]              \n",
            " 11                -1  1         0  torch.nn.modules.upsampling.Upsample    [None, 2, 'nearest']          \n",
            " 12           [-1, 6]  1         0  models.common.Concat                    [1]                           \n",
            " 13                -1  1    361984  models.common.C3                        [512, 256, 1, False]          \n",
            " 14                -1  1     33024  models.common.Conv                      [256, 128, 1, 1]              \n",
            " 15                -1  1         0  torch.nn.modules.upsampling.Upsample    [None, 2, 'nearest']          \n",
            " 16           [-1, 4]  1         0  models.common.Concat                    [1]                           \n",
            " 17                -1  1     90880  models.common.C3                        [256, 128, 1, False]          \n",
            " 18                -1  1    147712  models.common.Conv                      [128, 128, 3, 2]              \n",
            " 19          [-1, 14]  1         0  models.common.Concat                    [1]                           \n",
            " 20                -1  1    296448  models.common.C3                        [256, 256, 1, False]          \n",
            " 21                -1  1    590336  models.common.Conv                      [256, 256, 3, 2]              \n",
            " 22          [-1, 10]  1         0  models.common.Concat                    [1]                           \n",
            " 23                -1  1   1182720  models.common.C3                        [512, 512, 1, False]          \n",
            " 24      [17, 20, 23]  1     18879  models.yolo.Detect                      [2, [[10, 13, 16, 30, 33, 23], [30, 61, 62, 45, 59, 119], [116, 90, 156, 198, 373, 326]], [128, 256, 512]]\n",
            "YOLOv5s summary: 214 layers, 7025023 parameters, 7025023 gradients, 16.0 GFLOPs\n",
            "\n",
            "Transferred 342/349 items from yolov5/yolov5s.pt\n",
            "\u001b[34m\u001b[1mAMP: \u001b[0mchecks passed ✅\n",
            "\u001b[34m\u001b[1moptimizer:\u001b[0m SGD(lr=0.01) with parameter groups 57 weight(decay=0.0), 60 weight(decay=0.0005), 60 bias\n",
            "\u001b[34m\u001b[1malbumentations: \u001b[0mBlur(p=0.01, blur_limit=(3, 7)), MedianBlur(p=0.01, blur_limit=(3, 7)), ToGray(p=0.01), CLAHE(p=0.01, clip_limit=(1, 4.0), tile_grid_size=(8, 8))\n",
            "\u001b[34m\u001b[1mtrain: \u001b[0mScanning '/content/drive/MyDrive/Projects/Head-Hardhet-Detection/HardHat_Dataset/processed/train/labels' images and labels...4750 found, 0 missing, 0 empty, 0 corrupt: 100% 4750/4750 [00:32<00:00, 148.33it/s]\n",
            "\u001b[34m\u001b[1mtrain: \u001b[0mNew cache created: /content/drive/MyDrive/Projects/Head-Hardhet-Detection/HardHat_Dataset/processed/train/labels.cache\n",
            "\u001b[34m\u001b[1mtrain: \u001b[0mCaching images (3.5GB ram): 100% 4750/4750 [00:50<00:00, 94.88it/s]\n",
            "\u001b[34m\u001b[1mval: \u001b[0mScanning '/content/drive/MyDrive/Projects/Head-Hardhet-Detection/HardHat_Dataset/processed/test/labels' images and labels...950 found, 0 missing, 0 empty, 0 corrupt: 100% 950/950 [00:07<00:00, 124.40it/s]\n",
            "\u001b[34m\u001b[1mval: \u001b[0mNew cache created: /content/drive/MyDrive/Projects/Head-Hardhet-Detection/HardHat_Dataset/processed/test/labels.cache\n",
            "\u001b[34m\u001b[1mval: \u001b[0mCaching images (0.7GB ram): 100% 950/950 [00:09<00:00, 99.82it/s] \n",
            "\n",
            "\u001b[34m\u001b[1mAutoAnchor: \u001b[0m5.71 anchors/target, 1.000 Best Possible Recall (BPR). Current anchors are a good fit to dataset ✅\n",
            "Plotting labels to yolov5/runs/train/yolov5x_helmet5/labels.jpg... \n",
            "Image sizes 512 train, 512 val\n",
            "Using 2 dataloader workers\n",
            "Logging results to \u001b[1myolov5/runs/train/yolov5x_helmet5\u001b[0m\n",
            "Starting training for 100 epochs...\n",
            "\n",
            "      Epoch    GPU_mem   box_loss   obj_loss   cls_loss  Instances       Size\n",
            "       0/99      2.38G     0.0807    0.04373    0.02092         99        512: 100% 297/297 [01:14<00:00,  3.99it/s]\n",
            "                 Class     Images  Instances          P          R      mAP50   mAP50-95: 100% 30/30 [00:09<00:00,  3.31it/s]\n",
            "                   all        950       4785      0.344      0.565      0.454      0.192\n",
            "\n",
            "      Epoch    GPU_mem   box_loss   obj_loss   cls_loss  Instances       Size\n",
            "       1/99      2.98G      0.058    0.03436    0.01125        117        512: 100% 297/297 [01:04<00:00,  4.61it/s]\n",
            "                 Class     Images  Instances          P          R      mAP50   mAP50-95: 100% 30/30 [00:07<00:00,  4.26it/s]\n",
            "                   all        950       4785      0.648       0.66      0.708       0.33\n",
            "\n",
            "      Epoch    GPU_mem   box_loss   obj_loss   cls_loss  Instances       Size\n",
            "       2/99      2.98G     0.0524    0.03339   0.006715        122        512: 100% 297/297 [01:01<00:00,  4.80it/s]\n",
            "                 Class     Images  Instances          P          R      mAP50   mAP50-95: 100% 30/30 [00:06<00:00,  4.34it/s]\n",
            "                   all        950       4785      0.894      0.768      0.851      0.454\n",
            "\n",
            "      Epoch    GPU_mem   box_loss   obj_loss   cls_loss  Instances       Size\n",
            "       3/99      2.98G    0.04641    0.03256    0.00557         84        512: 100% 297/297 [01:04<00:00,  4.59it/s]\n",
            "                 Class     Images  Instances          P          R      mAP50   mAP50-95: 100% 30/30 [00:06<00:00,  4.35it/s]\n",
            "                   all        950       4785      0.878        0.8      0.862      0.465\n",
            "\n",
            "      Epoch    GPU_mem   box_loss   obj_loss   cls_loss  Instances       Size\n",
            "       4/99      2.98G    0.04297    0.03292   0.004945         72        512: 100% 297/297 [01:02<00:00,  4.76it/s]\n",
            "                 Class     Images  Instances          P          R      mAP50   mAP50-95: 100% 30/30 [00:07<00:00,  4.24it/s]\n",
            "                   all        950       4785      0.908      0.826      0.887      0.524\n",
            "\n",
            "      Epoch    GPU_mem   box_loss   obj_loss   cls_loss  Instances       Size\n",
            "       5/99      2.98G     0.0405    0.03171   0.004667        132        512: 100% 297/297 [01:01<00:00,  4.80it/s]\n",
            "                 Class     Images  Instances          P          R      mAP50   mAP50-95: 100% 30/30 [00:06<00:00,  4.29it/s]\n",
            "                   all        950       4785      0.901      0.839      0.896      0.542\n",
            "\n",
            "      Epoch    GPU_mem   box_loss   obj_loss   cls_loss  Instances       Size\n",
            "       6/99      2.98G    0.03904    0.03173   0.004253        141        512: 100% 297/297 [01:05<00:00,  4.56it/s]\n",
            "                 Class     Images  Instances          P          R      mAP50   mAP50-95: 100% 30/30 [00:07<00:00,  4.28it/s]\n",
            "                   all        950       4785      0.918      0.826      0.892      0.541\n",
            "\n",
            "      Epoch    GPU_mem   box_loss   obj_loss   cls_loss  Instances       Size\n",
            "       7/99      2.98G    0.03733    0.03047   0.004021         75        512: 100% 297/297 [01:01<00:00,  4.82it/s]\n",
            "                 Class     Images  Instances          P          R      mAP50   mAP50-95: 100% 30/30 [00:07<00:00,  4.26it/s]\n",
            "                   all        950       4785      0.922      0.835      0.903      0.561\n",
            "\n",
            "      Epoch    GPU_mem   box_loss   obj_loss   cls_loss  Instances       Size\n",
            "       8/99      2.98G    0.03687    0.03071   0.003766         96        512: 100% 297/297 [01:01<00:00,  4.80it/s]\n",
            "                 Class     Images  Instances          P          R      mAP50   mAP50-95: 100% 30/30 [00:06<00:00,  4.30it/s]\n",
            "                   all        950       4785      0.916      0.846      0.903      0.559\n",
            "\n",
            "      Epoch    GPU_mem   box_loss   obj_loss   cls_loss  Instances       Size\n",
            "       9/99      2.98G    0.03611    0.03057   0.004094         91        512: 100% 297/297 [01:03<00:00,  4.67it/s]\n",
            "                 Class     Images  Instances          P          R      mAP50   mAP50-95: 100% 30/30 [00:08<00:00,  3.70it/s]\n",
            "                   all        950       4785      0.911      0.833        0.9      0.558\n",
            "\n",
            "      Epoch    GPU_mem   box_loss   obj_loss   cls_loss  Instances       Size\n",
            "      10/99      2.98G    0.03537    0.02994   0.003714         85        512: 100% 297/297 [01:01<00:00,  4.83it/s]\n",
            "                 Class     Images  Instances          P          R      mAP50   mAP50-95: 100% 30/30 [00:07<00:00,  4.28it/s]\n",
            "                   all        950       4785      0.926      0.846      0.913      0.579\n",
            "\n",
            "      Epoch    GPU_mem   box_loss   obj_loss   cls_loss  Instances       Size\n",
            "      11/99      2.98G    0.03495    0.02992   0.003345        122        512: 100% 297/297 [01:01<00:00,  4.82it/s]\n",
            "                 Class     Images  Instances          P          R      mAP50   mAP50-95: 100% 30/30 [00:07<00:00,  4.27it/s]\n",
            "                   all        950       4785      0.918      0.848      0.919      0.575\n",
            "\n",
            "      Epoch    GPU_mem   box_loss   obj_loss   cls_loss  Instances       Size\n",
            "      12/99      2.98G     0.0344    0.02998    0.00359        149        512: 100% 297/297 [01:03<00:00,  4.69it/s]\n",
            "                 Class     Images  Instances          P          R      mAP50   mAP50-95: 100% 30/30 [00:07<00:00,  4.26it/s]\n",
            "                   all        950       4785       0.92       0.86      0.919      0.585\n",
            "\n",
            "      Epoch    GPU_mem   box_loss   obj_loss   cls_loss  Instances       Size\n",
            "      13/99      2.98G    0.03416    0.02884   0.003077         77        512: 100% 297/297 [01:03<00:00,  4.68it/s]\n",
            "                 Class     Images  Instances          P          R      mAP50   mAP50-95: 100% 30/30 [00:07<00:00,  4.28it/s]\n",
            "                   all        950       4785      0.924      0.865      0.918       0.59\n",
            "\n",
            "      Epoch    GPU_mem   box_loss   obj_loss   cls_loss  Instances       Size\n",
            "      14/99      2.98G    0.03394    0.02981   0.003295        119        512: 100% 297/297 [01:01<00:00,  4.82it/s]\n",
            "                 Class     Images  Instances          P          R      mAP50   mAP50-95: 100% 30/30 [00:06<00:00,  4.31it/s]\n",
            "                   all        950       4785      0.933      0.842      0.921      0.575\n",
            "\n",
            "      Epoch    GPU_mem   box_loss   obj_loss   cls_loss  Instances       Size\n",
            "      15/99      2.98G    0.03341    0.02836   0.003081        122        512: 100% 297/297 [01:02<00:00,  4.72it/s]\n",
            "                 Class     Images  Instances          P          R      mAP50   mAP50-95: 100% 30/30 [00:06<00:00,  4.32it/s]\n",
            "                   all        950       4785      0.925      0.858      0.926      0.592\n",
            "\n",
            "      Epoch    GPU_mem   box_loss   obj_loss   cls_loss  Instances       Size\n",
            "      16/99      2.98G    0.03325    0.02869   0.003049        118        512: 100% 297/297 [01:01<00:00,  4.83it/s]\n",
            "                 Class     Images  Instances          P          R      mAP50   mAP50-95: 100% 30/30 [00:08<00:00,  3.74it/s]\n",
            "                   all        950       4785      0.918      0.871      0.929      0.602\n",
            "\n",
            "      Epoch    GPU_mem   box_loss   obj_loss   cls_loss  Instances       Size\n",
            "      17/99      2.98G    0.03292    0.02819   0.003058         92        512: 100% 297/297 [01:01<00:00,  4.83it/s]\n",
            "                 Class     Images  Instances          P          R      mAP50   mAP50-95: 100% 30/30 [00:07<00:00,  4.27it/s]\n",
            "                   all        950       4785      0.919       0.87      0.933      0.605\n",
            "\n",
            "      Epoch    GPU_mem   box_loss   obj_loss   cls_loss  Instances       Size\n",
            "      18/99      2.98G    0.03285    0.02845   0.002864         89        512: 100% 297/297 [01:02<00:00,  4.72it/s]\n",
            "                 Class     Images  Instances          P          R      mAP50   mAP50-95: 100% 30/30 [00:06<00:00,  4.31it/s]\n",
            "                   all        950       4785      0.925      0.871      0.938      0.609\n",
            "\n",
            "      Epoch    GPU_mem   box_loss   obj_loss   cls_loss  Instances       Size\n",
            "      19/99      2.98G    0.03243    0.02771    0.00266         66        512: 100% 297/297 [01:01<00:00,  4.83it/s]\n",
            "                 Class     Images  Instances          P          R      mAP50   mAP50-95: 100% 30/30 [00:06<00:00,  4.34it/s]\n",
            "                   all        950       4785      0.926      0.883      0.943      0.607\n",
            "\n",
            "      Epoch    GPU_mem   box_loss   obj_loss   cls_loss  Instances       Size\n",
            "      20/99      2.98G    0.03247    0.02771   0.002692         92        512: 100% 297/297 [01:02<00:00,  4.72it/s]\n",
            "                 Class     Images  Instances          P          R      mAP50   mAP50-95: 100% 30/30 [00:07<00:00,  4.25it/s]\n",
            "                   all        950       4785      0.927      0.876       0.94      0.615\n",
            "\n",
            "      Epoch    GPU_mem   box_loss   obj_loss   cls_loss  Instances       Size\n",
            "      21/99      2.98G     0.0322    0.02829   0.002679        104        512: 100% 297/297 [01:04<00:00,  4.63it/s]\n",
            "                 Class     Images  Instances          P          R      mAP50   mAP50-95: 100% 30/30 [00:07<00:00,  4.26it/s]\n",
            "                   all        950       4785      0.928      0.886      0.943      0.614\n",
            "\n",
            "      Epoch    GPU_mem   box_loss   obj_loss   cls_loss  Instances       Size\n",
            "      22/99      2.98G    0.03187    0.02766   0.002875        106        512: 100% 297/297 [01:01<00:00,  4.81it/s]\n",
            "                 Class     Images  Instances          P          R      mAP50   mAP50-95: 100% 30/30 [00:07<00:00,  4.22it/s]\n",
            "                   all        950       4785      0.921      0.877      0.941      0.611\n",
            "\n",
            "      Epoch    GPU_mem   box_loss   obj_loss   cls_loss  Instances       Size\n",
            "      23/99      2.98G    0.03171     0.0277   0.002552         95        512: 100% 297/297 [01:02<00:00,  4.76it/s]\n",
            "                 Class     Images  Instances          P          R      mAP50   mAP50-95: 100% 30/30 [00:08<00:00,  3.74it/s]\n",
            "                   all        950       4785      0.919      0.889      0.943      0.622\n",
            "\n",
            "      Epoch    GPU_mem   box_loss   obj_loss   cls_loss  Instances       Size\n",
            "      24/99      2.98G    0.03187    0.02751   0.002595        112        512: 100% 297/297 [01:03<00:00,  4.68it/s]\n",
            "                 Class     Images  Instances          P          R      mAP50   mAP50-95: 100% 30/30 [00:07<00:00,  4.25it/s]\n",
            "                   all        950       4785      0.914      0.887      0.947      0.611\n",
            "\n",
            "      Epoch    GPU_mem   box_loss   obj_loss   cls_loss  Instances       Size\n",
            "      25/99      2.98G    0.03157    0.02784   0.002558        136        512: 100% 297/297 [01:02<00:00,  4.76it/s]\n",
            "                 Class     Images  Instances          P          R      mAP50   mAP50-95: 100% 30/30 [00:07<00:00,  4.27it/s]\n",
            "                   all        950       4785      0.925      0.898      0.949      0.621\n",
            "\n",
            "      Epoch    GPU_mem   box_loss   obj_loss   cls_loss  Instances       Size\n",
            "      26/99      2.98G    0.03135    0.02786   0.002451         95        512: 100% 297/297 [01:02<00:00,  4.77it/s]\n",
            "                 Class     Images  Instances          P          R      mAP50   mAP50-95: 100% 30/30 [00:06<00:00,  4.31it/s]\n",
            "                   all        950       4785      0.932      0.886      0.949      0.627\n",
            "\n",
            "      Epoch    GPU_mem   box_loss   obj_loss   cls_loss  Instances       Size\n",
            "      27/99      2.98G    0.03149    0.02752    0.00232         80        512: 100% 297/297 [01:05<00:00,  4.51it/s]\n",
            "                 Class     Images  Instances          P          R      mAP50   mAP50-95: 100% 30/30 [00:07<00:00,  4.24it/s]\n",
            "                   all        950       4785      0.918      0.897       0.95      0.631\n",
            "\n",
            "      Epoch    GPU_mem   box_loss   obj_loss   cls_loss  Instances       Size\n",
            "      28/99      2.98G    0.03108    0.02692   0.002338        118        512: 100% 297/297 [01:01<00:00,  4.79it/s]\n",
            "                 Class     Images  Instances          P          R      mAP50   mAP50-95: 100% 30/30 [00:07<00:00,  4.27it/s]\n",
            "                   all        950       4785      0.922      0.892      0.947      0.627\n",
            "\n",
            "      Epoch    GPU_mem   box_loss   obj_loss   cls_loss  Instances       Size\n",
            "      29/99      2.98G    0.03093    0.02694   0.002215         93        512: 100% 297/297 [01:01<00:00,  4.80it/s]\n",
            "                 Class     Images  Instances          P          R      mAP50   mAP50-95: 100% 30/30 [00:07<00:00,  4.27it/s]\n",
            "                   all        950       4785      0.932      0.889      0.952      0.633\n",
            "\n",
            "      Epoch    GPU_mem   box_loss   obj_loss   cls_loss  Instances       Size\n",
            "      30/99      2.98G     0.0308     0.0268   0.002322         72        512: 100% 297/297 [01:03<00:00,  4.69it/s]\n",
            "                 Class     Images  Instances          P          R      mAP50   mAP50-95: 100% 30/30 [00:07<00:00,  3.78it/s]\n",
            "                   all        950       4785      0.918      0.914      0.957       0.64\n",
            "\n",
            "      Epoch    GPU_mem   box_loss   obj_loss   cls_loss  Instances       Size\n",
            "      31/99      2.98G    0.03114    0.02704   0.002404         66        512: 100% 297/297 [01:01<00:00,  4.81it/s]\n",
            "                 Class     Images  Instances          P          R      mAP50   mAP50-95: 100% 30/30 [00:07<00:00,  4.28it/s]\n",
            "                   all        950       4785      0.921      0.916       0.96      0.634\n",
            "\n",
            "      Epoch    GPU_mem   box_loss   obj_loss   cls_loss  Instances       Size\n",
            "      32/99      2.98G    0.03034    0.02666    0.00219         82        512: 100% 297/297 [01:01<00:00,  4.81it/s]\n",
            "                 Class     Images  Instances          P          R      mAP50   mAP50-95: 100% 30/30 [00:06<00:00,  4.30it/s]\n",
            "                   all        950       4785      0.935       0.91      0.959      0.642\n",
            "\n",
            "      Epoch    GPU_mem   box_loss   obj_loss   cls_loss  Instances       Size\n",
            "      33/99      2.98G    0.03034    0.02598   0.002009         54        512: 100% 297/297 [01:02<00:00,  4.72it/s]\n",
            "                 Class     Images  Instances          P          R      mAP50   mAP50-95: 100% 30/30 [00:07<00:00,  4.28it/s]\n",
            "                   all        950       4785      0.939      0.905      0.962      0.642\n",
            "\n",
            "      Epoch    GPU_mem   box_loss   obj_loss   cls_loss  Instances       Size\n",
            "      34/99      2.98G    0.03026    0.02608   0.002209        136        512: 100% 297/297 [01:02<00:00,  4.72it/s]\n",
            "                 Class     Images  Instances          P          R      mAP50   mAP50-95: 100% 30/30 [00:06<00:00,  4.29it/s]\n",
            "                   all        950       4785      0.934      0.908      0.961      0.643\n",
            "\n",
            "      Epoch    GPU_mem   box_loss   obj_loss   cls_loss  Instances       Size\n",
            "      35/99      2.98G    0.03045    0.02677   0.002008         92        512: 100% 297/297 [01:02<00:00,  4.78it/s]\n",
            "                 Class     Images  Instances          P          R      mAP50   mAP50-95: 100% 30/30 [00:06<00:00,  4.33it/s]\n",
            "                   all        950       4785      0.932      0.921      0.963      0.644\n",
            "\n",
            "      Epoch    GPU_mem   box_loss   obj_loss   cls_loss  Instances       Size\n",
            "      36/99      2.98G    0.03019    0.02628   0.001943         77        512: 100% 297/297 [01:01<00:00,  4.82it/s]\n",
            "                 Class     Images  Instances          P          R      mAP50   mAP50-95: 100% 30/30 [00:08<00:00,  3.73it/s]\n",
            "                   all        950       4785      0.925      0.916      0.962      0.643\n",
            "\n",
            "      Epoch    GPU_mem   box_loss   obj_loss   cls_loss  Instances       Size\n",
            "      37/99      2.98G    0.03008    0.02639   0.002041         63        512: 100% 297/297 [01:01<00:00,  4.83it/s]\n",
            "                 Class     Images  Instances          P          R      mAP50   mAP50-95: 100% 30/30 [00:07<00:00,  3.78it/s]\n",
            "                   all        950       4785      0.923      0.924      0.966      0.648\n",
            "\n",
            "      Epoch    GPU_mem   box_loss   obj_loss   cls_loss  Instances       Size\n",
            "      38/99      2.98G    0.02987    0.02601   0.002077        117        512: 100% 297/297 [01:01<00:00,  4.83it/s]\n",
            "                 Class     Images  Instances          P          R      mAP50   mAP50-95: 100% 30/30 [00:06<00:00,  4.33it/s]\n",
            "                   all        950       4785      0.937       0.91      0.965      0.653\n",
            "\n",
            "      Epoch    GPU_mem   box_loss   obj_loss   cls_loss  Instances       Size\n",
            "      39/99      2.98G    0.02974     0.0259   0.001992         76        512: 100% 297/297 [01:01<00:00,  4.79it/s]\n",
            "                 Class     Images  Instances          P          R      mAP50   mAP50-95: 100% 30/30 [00:08<00:00,  3.60it/s]\n",
            "                   all        950       4785      0.931      0.923      0.968      0.651\n",
            "\n",
            "      Epoch    GPU_mem   box_loss   obj_loss   cls_loss  Instances       Size\n",
            "      40/99      2.98G    0.02977    0.02604   0.001877         99        512: 100% 297/297 [01:03<00:00,  4.67it/s]\n",
            "                 Class     Images  Instances          P          R      mAP50   mAP50-95: 100% 30/30 [00:06<00:00,  4.29it/s]\n",
            "                   all        950       4785      0.935      0.926      0.971      0.657\n",
            "\n",
            "      Epoch    GPU_mem   box_loss   obj_loss   cls_loss  Instances       Size\n",
            "      41/99      2.98G    0.02969     0.0257   0.002041         74        512: 100% 297/297 [01:03<00:00,  4.69it/s]\n",
            "                 Class     Images  Instances          P          R      mAP50   mAP50-95: 100% 30/30 [00:06<00:00,  4.29it/s]\n",
            "                   all        950       4785       0.94      0.919      0.969      0.658\n",
            "\n",
            "      Epoch    GPU_mem   box_loss   obj_loss   cls_loss  Instances       Size\n",
            "      42/99      2.98G    0.02959    0.02558   0.001992        109        512: 100% 297/297 [01:01<00:00,  4.82it/s]\n",
            "                 Class     Images  Instances          P          R      mAP50   mAP50-95: 100% 30/30 [00:07<00:00,  4.26it/s]\n",
            "                   all        950       4785      0.935       0.93      0.971       0.66\n",
            "\n",
            "      Epoch    GPU_mem   box_loss   obj_loss   cls_loss  Instances       Size\n",
            "      43/99      2.98G    0.02957    0.02579   0.001812        106        512: 100% 297/297 [01:03<00:00,  4.66it/s]\n",
            "                 Class     Images  Instances          P          R      mAP50   mAP50-95: 100% 30/30 [00:07<00:00,  4.27it/s]\n",
            "                   all        950       4785      0.937      0.932      0.971      0.662\n",
            "\n",
            "      Epoch    GPU_mem   box_loss   obj_loss   cls_loss  Instances       Size\n",
            "      44/99      2.98G    0.02919    0.02571   0.001609        104        512: 100% 297/297 [01:01<00:00,  4.80it/s]\n",
            "                 Class     Images  Instances          P          R      mAP50   mAP50-95: 100% 30/30 [00:08<00:00,  3.73it/s]\n",
            "                   all        950       4785       0.93      0.934      0.967      0.653\n",
            "\n",
            "      Epoch    GPU_mem   box_loss   obj_loss   cls_loss  Instances       Size\n",
            "      45/99      2.98G    0.02943    0.02543   0.001749        111        512: 100% 297/297 [01:01<00:00,  4.79it/s]\n",
            "                 Class     Images  Instances          P          R      mAP50   mAP50-95: 100% 30/30 [00:06<00:00,  4.30it/s]\n",
            "                   all        950       4785      0.934      0.933      0.969      0.661\n",
            "\n",
            "      Epoch    GPU_mem   box_loss   obj_loss   cls_loss  Instances       Size\n",
            "      46/99      2.98G    0.02923    0.02526   0.001676        118        512: 100% 297/297 [01:03<00:00,  4.69it/s]\n",
            "                 Class     Images  Instances          P          R      mAP50   mAP50-95: 100% 30/30 [00:07<00:00,  4.25it/s]\n",
            "                   all        950       4785       0.94      0.927      0.969       0.66\n",
            "\n",
            "      Epoch    GPU_mem   box_loss   obj_loss   cls_loss  Instances       Size\n",
            "      47/99      2.98G    0.02906     0.0251   0.001735        160        512: 100% 297/297 [01:01<00:00,  4.80it/s]\n",
            "                 Class     Images  Instances          P          R      mAP50   mAP50-95: 100% 30/30 [00:07<00:00,  4.28it/s]\n",
            "                   all        950       4785      0.937      0.924      0.971      0.662\n",
            "\n",
            "      Epoch    GPU_mem   box_loss   obj_loss   cls_loss  Instances       Size\n",
            "      48/99      2.98G    0.02895    0.02535   0.001747        120        512: 100% 297/297 [01:03<00:00,  4.68it/s]\n",
            "                 Class     Images  Instances          P          R      mAP50   mAP50-95: 100% 30/30 [00:07<00:00,  4.19it/s]\n",
            "                   all        950       4785      0.939      0.933      0.973      0.665\n",
            "\n",
            "      Epoch    GPU_mem   box_loss   obj_loss   cls_loss  Instances       Size\n",
            "      49/99      2.98G    0.02897    0.02501   0.001701        141        512: 100% 297/297 [01:03<00:00,  4.69it/s]\n",
            "                 Class     Images  Instances          P          R      mAP50   mAP50-95: 100% 30/30 [00:06<00:00,  4.32it/s]\n",
            "                   all        950       4785      0.943      0.925      0.974      0.668\n",
            "\n",
            "      Epoch    GPU_mem   box_loss   obj_loss   cls_loss  Instances       Size\n",
            "      50/99      2.98G    0.02885     0.0251   0.001757         69        512: 100% 297/297 [01:01<00:00,  4.81it/s]\n",
            "                 Class     Images  Instances          P          R      mAP50   mAP50-95: 100% 30/30 [00:07<00:00,  4.28it/s]\n",
            "                   all        950       4785      0.942       0.93      0.973      0.675\n",
            "\n",
            "      Epoch    GPU_mem   box_loss   obj_loss   cls_loss  Instances       Size\n",
            "      51/99      2.98G    0.02878    0.02514    0.00175        111        512: 100% 297/297 [01:03<00:00,  4.69it/s]\n",
            "                 Class     Images  Instances          P          R      mAP50   mAP50-95: 100% 30/30 [00:07<00:00,  4.28it/s]\n",
            "                   all        950       4785      0.929      0.942      0.971       0.67\n",
            "\n",
            "      Epoch    GPU_mem   box_loss   obj_loss   cls_loss  Instances       Size\n",
            "      52/99      2.98G     0.0286    0.02492   0.001625         77        512: 100% 297/297 [01:03<00:00,  4.70it/s]\n",
            "                 Class     Images  Instances          P          R      mAP50   mAP50-95: 100% 30/30 [00:07<00:00,  4.25it/s]\n",
            "                   all        950       4785      0.944      0.932      0.976       0.67\n",
            "\n",
            "      Epoch    GPU_mem   box_loss   obj_loss   cls_loss  Instances       Size\n",
            "      53/99      2.98G    0.02864    0.02504   0.001557         71        512: 100% 297/297 [01:02<00:00,  4.77it/s]\n",
            "                 Class     Images  Instances          P          R      mAP50   mAP50-95: 100% 30/30 [00:06<00:00,  4.31it/s]\n",
            "                   all        950       4785      0.934      0.944      0.974      0.674\n",
            "\n",
            "      Epoch    GPU_mem   box_loss   obj_loss   cls_loss  Instances       Size\n",
            "      54/99      2.98G    0.02853    0.02537   0.001664        108        512: 100% 297/297 [01:02<00:00,  4.78it/s]\n",
            "                 Class     Images  Instances          P          R      mAP50   mAP50-95: 100% 30/30 [00:08<00:00,  3.73it/s]\n",
            "                   all        950       4785      0.939      0.942      0.976      0.676\n",
            "\n",
            "      Epoch    GPU_mem   box_loss   obj_loss   cls_loss  Instances       Size\n",
            "      55/99      2.98G    0.02837    0.02466   0.001577         94        512: 100% 297/297 [01:03<00:00,  4.70it/s]\n",
            "                 Class     Images  Instances          P          R      mAP50   mAP50-95: 100% 30/30 [00:07<00:00,  4.27it/s]\n",
            "                   all        950       4785       0.94      0.941      0.976      0.675\n",
            "\n",
            "      Epoch    GPU_mem   box_loss   obj_loss   cls_loss  Instances       Size\n",
            "      56/99      2.98G    0.02807    0.02464    0.00157        101        512: 100% 297/297 [01:01<00:00,  4.79it/s]\n",
            "                 Class     Images  Instances          P          R      mAP50   mAP50-95: 100% 30/30 [00:07<00:00,  4.27it/s]\n",
            "                   all        950       4785      0.941       0.93      0.975      0.677\n",
            "\n",
            "      Epoch    GPU_mem   box_loss   obj_loss   cls_loss  Instances       Size\n",
            "      57/99      2.98G    0.02829    0.02457   0.001631         89        512: 100% 297/297 [01:01<00:00,  4.79it/s]\n",
            "                 Class     Images  Instances          P          R      mAP50   mAP50-95: 100% 30/30 [00:06<00:00,  4.32it/s]\n",
            "                   all        950       4785      0.935      0.939      0.975      0.678\n",
            "\n",
            "      Epoch    GPU_mem   box_loss   obj_loss   cls_loss  Instances       Size\n",
            "      58/99      2.98G    0.02829    0.02506   0.001585         93        512: 100% 297/297 [01:05<00:00,  4.55it/s]\n",
            "                 Class     Images  Instances          P          R      mAP50   mAP50-95: 100% 30/30 [00:06<00:00,  4.29it/s]\n",
            "                   all        950       4785      0.939      0.942      0.977      0.678\n",
            "\n",
            "      Epoch    GPU_mem   box_loss   obj_loss   cls_loss  Instances       Size\n",
            "      59/99      2.98G    0.02811    0.02483   0.001487         52        512: 100% 297/297 [01:02<00:00,  4.77it/s]\n",
            "                 Class     Images  Instances          P          R      mAP50   mAP50-95: 100% 30/30 [00:07<00:00,  4.26it/s]\n",
            "                   all        950       4785      0.947      0.947       0.98      0.682\n",
            "\n",
            "      Epoch    GPU_mem   box_loss   obj_loss   cls_loss  Instances       Size\n",
            "      60/99      2.98G    0.02783    0.02418   0.001449        105        512: 100% 297/297 [01:02<00:00,  4.77it/s]\n",
            "                 Class     Images  Instances          P          R      mAP50   mAP50-95: 100% 30/30 [00:07<00:00,  4.24it/s]\n",
            "                   all        950       4785      0.946      0.941      0.976      0.682\n",
            "\n",
            "      Epoch    GPU_mem   box_loss   obj_loss   cls_loss  Instances       Size\n",
            "      61/99      2.98G    0.02795    0.02436   0.001474        111        512: 100% 297/297 [01:05<00:00,  4.53it/s]\n",
            "                 Class     Images  Instances          P          R      mAP50   mAP50-95: 100% 30/30 [00:07<00:00,  4.24it/s]\n",
            "                   all        950       4785      0.956      0.941      0.981      0.687\n",
            "\n",
            "      Epoch    GPU_mem   box_loss   obj_loss   cls_loss  Instances       Size\n",
            "      62/99      2.98G    0.02766    0.02439   0.001335        129        512: 100% 297/297 [01:02<00:00,  4.78it/s]\n",
            "                 Class     Images  Instances          P          R      mAP50   mAP50-95: 100% 30/30 [00:07<00:00,  4.14it/s]\n",
            "                   all        950       4785      0.952      0.947      0.982      0.689\n",
            "\n",
            "      Epoch    GPU_mem   box_loss   obj_loss   cls_loss  Instances       Size\n",
            "      63/99      2.98G    0.02747      0.024   0.001466         90        512: 100% 297/297 [01:02<00:00,  4.78it/s]\n",
            "                 Class     Images  Instances          P          R      mAP50   mAP50-95: 100% 30/30 [00:06<00:00,  4.30it/s]\n",
            "                   all        950       4785      0.953      0.945      0.982      0.688\n",
            "\n",
            "      Epoch    GPU_mem   box_loss   obj_loss   cls_loss  Instances       Size\n",
            "      64/99      2.98G    0.02785    0.02407   0.001389        106        512: 100% 297/297 [01:04<00:00,  4.57it/s]\n",
            "                 Class     Images  Instances          P          R      mAP50   mAP50-95: 100% 30/30 [00:07<00:00,  4.25it/s]\n",
            "                   all        950       4785       0.95      0.948      0.982      0.693\n",
            "\n",
            "      Epoch    GPU_mem   box_loss   obj_loss   cls_loss  Instances       Size\n",
            "      65/99      2.98G     0.0274    0.02348   0.001291        126        512: 100% 297/297 [01:01<00:00,  4.84it/s]\n",
            "                 Class     Images  Instances          P          R      mAP50   mAP50-95: 100% 30/30 [00:07<00:00,  4.17it/s]\n",
            "                   all        950       4785      0.951       0.95      0.984      0.693\n",
            "\n",
            "      Epoch    GPU_mem   box_loss   obj_loss   cls_loss  Instances       Size\n",
            "      66/99      2.98G    0.02753    0.02409   0.001298        105        512: 100% 297/297 [01:01<00:00,  4.81it/s]\n",
            "                 Class     Images  Instances          P          R      mAP50   mAP50-95: 100% 30/30 [00:06<00:00,  4.30it/s]\n",
            "                   all        950       4785      0.953      0.946      0.984      0.692\n",
            "\n",
            "      Epoch    GPU_mem   box_loss   obj_loss   cls_loss  Instances       Size\n",
            "      67/99      2.98G    0.02724    0.02362   0.001354        116        512: 100% 297/297 [01:02<00:00,  4.74it/s]\n",
            "                 Class     Images  Instances          P          R      mAP50   mAP50-95: 100% 30/30 [00:07<00:00,  3.78it/s]\n",
            "                   all        950       4785      0.958      0.949      0.983      0.695\n",
            "\n",
            "      Epoch    GPU_mem   box_loss   obj_loss   cls_loss  Instances       Size\n",
            "      68/99      2.98G    0.02749    0.02448   0.001411         79        512: 100% 297/297 [01:01<00:00,  4.80it/s]\n",
            "                 Class     Images  Instances          P          R      mAP50   mAP50-95: 100% 30/30 [00:06<00:00,  4.31it/s]\n",
            "                   all        950       4785      0.955      0.954      0.983      0.693\n",
            "\n",
            "      Epoch    GPU_mem   box_loss   obj_loss   cls_loss  Instances       Size\n",
            "      69/99      2.98G    0.02698    0.02377   0.001243        147        512: 100% 297/297 [01:01<00:00,  4.86it/s]\n",
            "                 Class     Images  Instances          P          R      mAP50   mAP50-95: 100% 30/30 [00:06<00:00,  4.37it/s]\n",
            "                   all        950       4785      0.958      0.951      0.983      0.694\n",
            "\n",
            "      Epoch    GPU_mem   box_loss   obj_loss   cls_loss  Instances       Size\n",
            "      70/99      2.98G    0.02724    0.02396   0.001311        105        512: 100% 297/297 [01:03<00:00,  4.68it/s]\n",
            "                 Class     Images  Instances          P          R      mAP50   mAP50-95: 100% 30/30 [00:06<00:00,  4.35it/s]\n",
            "                   all        950       4785       0.96      0.948      0.984      0.697\n",
            "\n",
            "      Epoch    GPU_mem   box_loss   obj_loss   cls_loss  Instances       Size\n",
            "      71/99      2.98G    0.02712    0.02378     0.0014         97        512: 100% 297/297 [01:03<00:00,  4.68it/s]\n",
            "                 Class     Images  Instances          P          R      mAP50   mAP50-95: 100% 30/30 [00:07<00:00,  4.28it/s]\n",
            "                   all        950       4785      0.954      0.951      0.984      0.701\n",
            "\n",
            "      Epoch    GPU_mem   box_loss   obj_loss   cls_loss  Instances       Size\n",
            "      72/99      2.98G    0.02721    0.02432   0.001408         83        512: 100% 297/297 [01:01<00:00,  4.79it/s]\n",
            "                 Class     Images  Instances          P          R      mAP50   mAP50-95: 100% 30/30 [00:07<00:00,  4.24it/s]\n",
            "                   all        950       4785      0.958      0.951      0.985      0.702\n",
            "\n",
            "      Epoch    GPU_mem   box_loss   obj_loss   cls_loss  Instances       Size\n",
            "      73/99      2.98G    0.02674    0.02362   0.001239        119        512: 100% 297/297 [01:03<00:00,  4.66it/s]\n",
            "                 Class     Images  Instances          P          R      mAP50   mAP50-95: 100% 30/30 [00:07<00:00,  4.20it/s]\n",
            "                   all        950       4785       0.96      0.955      0.985      0.705\n",
            "\n",
            "      Epoch    GPU_mem   box_loss   obj_loss   cls_loss  Instances       Size\n",
            "      74/99      2.98G    0.02681    0.02366   0.001228         90        512: 100% 297/297 [01:02<00:00,  4.73it/s]\n",
            "                 Class     Images  Instances          P          R      mAP50   mAP50-95: 100% 30/30 [00:07<00:00,  3.86it/s]\n",
            "                   all        950       4785      0.961      0.957      0.985      0.705\n",
            "\n",
            "      Epoch    GPU_mem   box_loss   obj_loss   cls_loss  Instances       Size\n",
            "      75/99      2.98G    0.02685    0.02384   0.001193         81        512: 100% 297/297 [01:01<00:00,  4.81it/s]\n",
            "                 Class     Images  Instances          P          R      mAP50   mAP50-95: 100% 30/30 [00:07<00:00,  4.27it/s]\n",
            "                   all        950       4785      0.959      0.956      0.986      0.706\n",
            "\n",
            "      Epoch    GPU_mem   box_loss   obj_loss   cls_loss  Instances       Size\n",
            "      76/99      2.98G    0.02657    0.02324   0.001288        115        512: 100% 297/297 [01:03<00:00,  4.68it/s]\n",
            "                 Class     Images  Instances          P          R      mAP50   mAP50-95: 100% 30/30 [00:07<00:00,  4.28it/s]\n",
            "                   all        950       4785      0.956      0.959      0.987       0.71\n",
            "\n",
            "      Epoch    GPU_mem   box_loss   obj_loss   cls_loss  Instances       Size\n",
            "      77/99      2.98G    0.02645     0.0233   0.001184        198        512: 100% 297/297 [01:02<00:00,  4.78it/s]\n",
            "                 Class     Images  Instances          P          R      mAP50   mAP50-95: 100% 30/30 [00:08<00:00,  3.68it/s]\n",
            "                   all        950       4785      0.956      0.962      0.987      0.709\n",
            "\n",
            "      Epoch    GPU_mem   box_loss   obj_loss   cls_loss  Instances       Size\n",
            "      78/99      2.98G    0.02645    0.02299   0.001163        123        512: 100% 297/297 [01:04<00:00,  4.61it/s]\n",
            "                 Class     Images  Instances          P          R      mAP50   mAP50-95: 100% 30/30 [00:07<00:00,  4.24it/s]\n",
            "                   all        950       4785      0.961      0.958      0.986       0.71\n",
            "\n",
            "      Epoch    GPU_mem   box_loss   obj_loss   cls_loss  Instances       Size\n",
            "      79/99      2.98G    0.02646    0.02321   0.001336        107        512: 100% 297/297 [01:04<00:00,  4.57it/s]\n",
            "                 Class     Images  Instances          P          R      mAP50   mAP50-95: 100% 30/30 [00:07<00:00,  4.24it/s]\n",
            "                   all        950       4785      0.964      0.958      0.988      0.711\n",
            "\n",
            "      Epoch    GPU_mem   box_loss   obj_loss   cls_loss  Instances       Size\n",
            "      80/99      2.98G    0.02642    0.02343   0.001164        102        512: 100% 297/297 [01:02<00:00,  4.73it/s]\n",
            "                 Class     Images  Instances          P          R      mAP50   mAP50-95: 100% 30/30 [00:07<00:00,  4.08it/s]\n",
            "                   all        950       4785      0.965      0.959      0.988      0.712\n",
            "\n",
            "      Epoch    GPU_mem   box_loss   obj_loss   cls_loss  Instances       Size\n",
            "      81/99      2.98G    0.02619    0.02305     0.0011        105        512: 100% 297/297 [01:03<00:00,  4.66it/s]\n",
            "                 Class     Images  Instances          P          R      mAP50   mAP50-95: 100% 30/30 [00:07<00:00,  4.26it/s]\n",
            "                   all        950       4785      0.963      0.962      0.988      0.713\n",
            "\n",
            "      Epoch    GPU_mem   box_loss   obj_loss   cls_loss  Instances       Size\n",
            "      82/99      2.98G    0.02631    0.02339   0.001179        105        512: 100% 297/297 [01:04<00:00,  4.61it/s]\n",
            "                 Class     Images  Instances          P          R      mAP50   mAP50-95: 100% 30/30 [00:07<00:00,  4.25it/s]\n",
            "                   all        950       4785      0.963      0.964      0.988      0.716\n",
            "\n",
            "      Epoch    GPU_mem   box_loss   obj_loss   cls_loss  Instances       Size\n",
            "      83/99      2.98G     0.0264      0.023    0.00112         79        512: 100% 297/297 [01:03<00:00,  4.70it/s]\n",
            "                 Class     Images  Instances          P          R      mAP50   mAP50-95: 100% 30/30 [00:07<00:00,  4.22it/s]\n",
            "                   all        950       4785      0.966      0.957      0.988      0.716\n",
            "\n",
            "      Epoch    GPU_mem   box_loss   obj_loss   cls_loss  Instances       Size\n",
            "      84/99      2.98G    0.02619    0.02347   0.001209         81        512: 100% 297/297 [01:03<00:00,  4.64it/s]\n",
            "                 Class     Images  Instances          P          R      mAP50   mAP50-95: 100% 30/30 [00:07<00:00,  4.26it/s]\n",
            "                   all        950       4785      0.961      0.964      0.988      0.717\n",
            "\n",
            "      Epoch    GPU_mem   box_loss   obj_loss   cls_loss  Instances       Size\n",
            "      85/99      2.98G    0.02614    0.02256   0.001074         83        512: 100% 297/297 [01:04<00:00,  4.61it/s]\n",
            "                 Class     Images  Instances          P          R      mAP50   mAP50-95: 100% 30/30 [00:06<00:00,  4.32it/s]\n",
            "                   all        950       4785      0.963      0.964      0.988      0.718\n",
            "\n",
            "      Epoch    GPU_mem   box_loss   obj_loss   cls_loss  Instances       Size\n",
            "      86/99      2.98G    0.02591    0.02257   0.001134        129        512: 100% 297/297 [01:02<00:00,  4.77it/s]\n",
            "                 Class     Images  Instances          P          R      mAP50   mAP50-95: 100% 30/30 [00:07<00:00,  3.89it/s]\n",
            "                   all        950       4785      0.965      0.961      0.989      0.718\n",
            "\n",
            "      Epoch    GPU_mem   box_loss   obj_loss   cls_loss  Instances       Size\n",
            "      87/99      2.98G    0.02602    0.02345   0.001071        120        512: 100% 297/297 [01:03<00:00,  4.68it/s]\n",
            "                 Class     Images  Instances          P          R      mAP50   mAP50-95: 100% 30/30 [00:07<00:00,  3.78it/s]\n",
            "                   all        950       4785      0.971      0.961      0.989       0.72\n",
            "\n",
            "      Epoch    GPU_mem   box_loss   obj_loss   cls_loss  Instances       Size\n",
            "      88/99      2.98G      0.026    0.02258   0.001152        135        512: 100% 297/297 [01:04<00:00,  4.60it/s]\n",
            "                 Class     Images  Instances          P          R      mAP50   mAP50-95: 100% 30/30 [00:07<00:00,  4.24it/s]\n",
            "                   all        950       4785      0.969      0.963       0.99      0.721\n",
            "\n",
            "      Epoch    GPU_mem   box_loss   obj_loss   cls_loss  Instances       Size\n",
            "      89/99      2.98G    0.02576    0.02256  0.0009724        131        512: 100% 297/297 [01:02<00:00,  4.74it/s]\n",
            "                 Class     Images  Instances          P          R      mAP50   mAP50-95: 100% 30/30 [00:06<00:00,  4.29it/s]\n",
            "                   all        950       4785      0.973       0.96      0.989      0.722\n",
            "\n",
            "      Epoch    GPU_mem   box_loss   obj_loss   cls_loss  Instances       Size\n",
            "      90/99      2.98G    0.02581    0.02295   0.001214        104        512: 100% 297/297 [01:03<00:00,  4.69it/s]\n",
            "                 Class     Images  Instances          P          R      mAP50   mAP50-95: 100% 30/30 [00:08<00:00,  3.74it/s]\n",
            "                   all        950       4785      0.967      0.963      0.989      0.722\n",
            "\n",
            "      Epoch    GPU_mem   box_loss   obj_loss   cls_loss  Instances       Size\n",
            "      91/99      2.98G    0.02561    0.02253   0.001013        117        512: 100% 297/297 [01:03<00:00,  4.69it/s]\n",
            "                 Class     Images  Instances          P          R      mAP50   mAP50-95: 100% 30/30 [00:07<00:00,  3.92it/s]\n",
            "                   all        950       4785      0.969       0.96      0.989      0.723\n",
            "\n",
            "      Epoch    GPU_mem   box_loss   obj_loss   cls_loss  Instances       Size\n",
            "      92/99      2.98G    0.02577    0.02247   0.001019        102        512: 100% 297/297 [01:03<00:00,  4.68it/s]\n",
            "                 Class     Images  Instances          P          R      mAP50   mAP50-95: 100% 30/30 [00:07<00:00,  4.22it/s]\n",
            "                   all        950       4785      0.969      0.962      0.989      0.724\n",
            "\n",
            "      Epoch    GPU_mem   box_loss   obj_loss   cls_loss  Instances       Size\n",
            "      93/99      2.98G    0.02553     0.0224  0.0009751         88        512: 100% 297/297 [01:02<00:00,  4.72it/s]\n",
            "                 Class     Images  Instances          P          R      mAP50   mAP50-95: 100% 30/30 [00:06<00:00,  4.31it/s]\n",
            "                   all        950       4785      0.968      0.965      0.989      0.725\n",
            "\n",
            "      Epoch    GPU_mem   box_loss   obj_loss   cls_loss  Instances       Size\n",
            "      94/99      2.98G    0.02534     0.0222   0.001016        109        512: 100% 297/297 [01:03<00:00,  4.65it/s]\n",
            "                 Class     Images  Instances          P          R      mAP50   mAP50-95: 100% 30/30 [00:08<00:00,  3.74it/s]\n",
            "                   all        950       4785      0.969      0.962       0.99      0.726\n",
            "\n",
            "      Epoch    GPU_mem   box_loss   obj_loss   cls_loss  Instances       Size\n",
            "      95/99      2.98G    0.02527    0.02237   0.001005        122        512: 100% 297/297 [01:02<00:00,  4.76it/s]\n",
            "                 Class     Images  Instances          P          R      mAP50   mAP50-95: 100% 30/30 [00:07<00:00,  4.28it/s]\n",
            "                   all        950       4785      0.969      0.962       0.99      0.727\n",
            "\n",
            "      Epoch    GPU_mem   box_loss   obj_loss   cls_loss  Instances       Size\n",
            "      96/99      2.98G    0.02499    0.02231   0.001044         88        512: 100% 297/297 [01:02<00:00,  4.77it/s]\n",
            "                 Class     Images  Instances          P          R      mAP50   mAP50-95: 100% 30/30 [00:07<00:00,  4.25it/s]\n",
            "                   all        950       4785      0.966      0.966      0.989      0.727\n",
            "\n",
            "      Epoch    GPU_mem   box_loss   obj_loss   cls_loss  Instances       Size\n",
            "      97/99      2.98G    0.02543    0.02186   0.001012        116        512: 100% 297/297 [01:01<00:00,  4.80it/s]\n",
            "                 Class     Images  Instances          P          R      mAP50   mAP50-95: 100% 30/30 [00:07<00:00,  4.13it/s]\n",
            "                   all        950       4785      0.965      0.968       0.99      0.728\n",
            "\n",
            "      Epoch    GPU_mem   box_loss   obj_loss   cls_loss  Instances       Size\n",
            "      98/99      2.98G    0.02526    0.02249   0.000973         71        512: 100% 297/297 [01:04<00:00,  4.62it/s]\n",
            "                 Class     Images  Instances          P          R      mAP50   mAP50-95: 100% 30/30 [00:07<00:00,  4.26it/s]\n",
            "                   all        950       4785      0.967      0.966      0.989      0.729\n",
            "\n",
            "      Epoch    GPU_mem   box_loss   obj_loss   cls_loss  Instances       Size\n",
            "      99/99      2.98G    0.02527    0.02261  0.0009792        134        512: 100% 297/297 [01:02<00:00,  4.72it/s]\n",
            "                 Class     Images  Instances          P          R      mAP50   mAP50-95: 100% 30/30 [00:07<00:00,  4.28it/s]\n",
            "                   all        950       4785      0.966      0.967      0.989      0.729\n",
            "\n",
            "100 epochs completed in 1.969 hours.\n",
            "Optimizer stripped from yolov5/runs/train/yolov5x_helmet5/weights/last.pt, 14.4MB\n",
            "Optimizer stripped from yolov5/runs/train/yolov5x_helmet5/weights/best.pt, 14.4MB\n",
            "\n",
            "Validating yolov5/runs/train/yolov5x_helmet5/weights/best.pt...\n",
            "Fusing layers... \n",
            "YOLOv5s summary: 157 layers, 7015519 parameters, 0 gradients, 15.8 GFLOPs\n",
            "                 Class     Images  Instances          P          R      mAP50   mAP50-95: 100% 30/30 [00:10<00:00,  2.87it/s]\n",
            "                   all        950       4785      0.966      0.967      0.989      0.729\n",
            "                  Head        950       1214      0.956      0.964      0.987      0.721\n",
            "                Helmet        950       3571      0.976       0.97      0.992      0.738\n",
            "Results saved to \u001b[1myolov5/runs/train/yolov5x_helmet5\u001b[0m\n"
          ]
        }
      ]
    },
    {
      "cell_type": "code",
      "source": [
        "# Validation\n",
        "\n",
        "!python ./yolov5/val.py --img 350 --batch-size 16 --data data.yaml --weights \"yolov5/runs/train/yolov5x_helmet5/weights/best.pt\" --conf 0.1"
      ],
      "metadata": {
        "colab": {
          "base_uri": "https://localhost:8080/"
        },
        "id": "7BSIFQepvpm4",
        "outputId": "72225e2b-69e7-4203-8341-1113f46aff46"
      },
      "execution_count": 64,
      "outputs": [
        {
          "output_type": "stream",
          "name": "stdout",
          "text": [
            "\u001b[34m\u001b[1mval: \u001b[0mdata=data.yaml, weights=['yolov5/runs/train/yolov5x_helmet5/weights/best.pt'], batch_size=16, imgsz=350, conf_thres=0.1, iou_thres=0.6, max_det=300, task=val, device=, workers=8, single_cls=False, augment=False, verbose=False, save_txt=False, save_hybrid=False, save_conf=False, save_json=False, project=yolov5/runs/val, name=exp, exist_ok=False, half=False, dnn=False\n",
            "WARNING ⚠️ confidence threshold 0.1 > 0.001 produces invalid results\n",
            "YOLOv5 🚀 v6.2-228-g6ae3dff Python-3.7.15 torch-1.12.1+cu113 CUDA:0 (Tesla T4, 15110MiB)\n",
            "\n",
            "Fusing layers... \n",
            "YOLOv5s summary: 157 layers, 7015519 parameters, 0 gradients, 15.8 GFLOPs\n",
            "WARNING ⚠️ --img-size 350 must be multiple of max stride 32, updating to 352\n",
            "\u001b[34m\u001b[1mval: \u001b[0mScanning '/content/drive/MyDrive/Projects/Head-Hardhet-Detection/HardHat_Dataset/processed/test/labels.cache' images and labels... 950 found, 0 missing, 0 empty, 0 corrupt: 100% 950/950 [00:00<?, ?it/s]\n",
            "                 Class     Images  Instances          P          R      mAP50   mAP50-95: 100% 60/60 [00:14<00:00,  4.03it/s]\n",
            "                   all        950       4785      0.957      0.949      0.979      0.726\n",
            "                  Head        950       1214      0.948       0.94      0.974      0.714\n",
            "                Helmet        950       3571      0.966      0.958      0.985      0.738\n",
            "Speed: 0.1ms pre-process, 2.9ms inference, 1.8ms NMS per image at shape (16, 3, 352, 352)\n",
            "Results saved to \u001b[1myolov5/runs/val/exp2\u001b[0m\n"
          ]
        }
      ]
    },
    {
      "cell_type": "markdown",
      "source": [
        "# Prediction on Test Images"
      ],
      "metadata": {
        "id": "JTTwDit06mDC"
      }
    },
    {
      "cell_type": "code",
      "source": [
        "#unzipping test images\n",
        "\n",
        "!unzip -q HardHat_Dataset/Dataset/HardHat_Test_Images.zip -d testimages"
      ],
      "metadata": {
        "id": "wQ_oHsRZLqfx"
      },
      "execution_count": 62,
      "outputs": []
    },
    {
      "cell_type": "code",
      "source": [
        "# Detection on test dataset\n",
        "!python ./yolov5/detect.py --weights \"yolov5/runs/train/yolov5x_helmet5/weights/best.pt\" --img 512 --conf 0.1 --source testimages/Images --save-txt --save-conf --exist-ok\n"
      ],
      "metadata": {
        "id": "Z1j-wOnjMK3Z"
      },
      "execution_count": null,
      "outputs": []
    },
    {
      "cell_type": "markdown",
      "source": [
        "# Prediction on YouTube Video"
      ],
      "metadata": {
        "id": "7aq5Ap9XvkYR"
      }
    },
    {
      "cell_type": "code",
      "source": [
        "!pip install pytube"
      ],
      "metadata": {
        "colab": {
          "base_uri": "https://localhost:8080/"
        },
        "id": "IlQ5s_cuyAcZ",
        "outputId": "5b5c4ee6-c8ca-4aa9-ccaa-c7c800f5ed56"
      },
      "execution_count": 67,
      "outputs": [
        {
          "output_type": "stream",
          "name": "stdout",
          "text": [
            "Looking in indexes: https://pypi.org/simple, https://us-python.pkg.dev/colab-wheels/public/simple/\n",
            "Collecting pytube\n",
            "  Downloading pytube-12.1.0-py3-none-any.whl (56 kB)\n",
            "\u001b[K     |████████████████████████████████| 56 kB 2.9 MB/s \n",
            "\u001b[?25hInstalling collected packages: pytube\n",
            "Successfully installed pytube-12.1.0\n"
          ]
        }
      ]
    },
    {
      "cell_type": "code",
      "source": [
        "from pytube import YouTube\n",
        "YouTube('https://www.youtube.com/watch?v=6PoPwZ0WO9w').streams.first().download()\n",
        "yt = YouTube('https://www.youtube.com/watch?v=6PoPwZ0WO9w')"
      ],
      "metadata": {
        "id": "Q-Ecn8X1yKFi"
      },
      "execution_count": 68,
      "outputs": []
    },
    {
      "cell_type": "code",
      "source": [
        "yt.streams.filter(progressive=True, file_extension='mp4').order_by('resolution').desc().first().download()"
      ],
      "metadata": {
        "colab": {
          "base_uri": "https://localhost:8080/",
          "height": 35
        },
        "id": "raPQBbx4yLMu",
        "outputId": "938e5b7a-ef67-47c4-a907-346f0519e6f6"
      },
      "execution_count": 69,
      "outputs": [
        {
          "output_type": "execute_result",
          "data": {
            "text/plain": [
              "'/content/drive/MyDrive/Projects/Head-Hardhet-Detection/Top 10 Safety Vest For Construction For Men And Women.mp4'"
            ],
            "application/vnd.google.colaboratory.intrinsic+json": {
              "type": "string"
            }
          },
          "metadata": {},
          "execution_count": 69
        }
      ]
    },
    {
      "cell_type": "code",
      "source": [
        "!mv \"Top 10 Safety Vest For Construction For Men And Women.mp4\" test.mp4"
      ],
      "metadata": {
        "id": "gjDa3kjtyK5S"
      },
      "execution_count": 70,
      "outputs": []
    },
    {
      "cell_type": "code",
      "source": [
        "# extract 10 minutes worth of video frames of it\n",
        "!yes | ffmpeg -ss 00:00:05 -i test.mp4 -t 00:10:50 -vf fps=30 out.mp4"
      ],
      "metadata": {
        "id": "LYcHeMXcyi6M"
      },
      "execution_count": null,
      "outputs": []
    },
    {
      "cell_type": "code",
      "source": [
        "!python ./yolov5/detect.py --source out.mp4 --conf 0.1 --weights \"yolov5/runs/train/yolov5x_helmet5/weights/best.pt\" "
      ],
      "metadata": {
        "id": "NI-kH-z2wnKX"
      },
      "execution_count": null,
      "outputs": []
    },
    {
      "cell_type": "code",
      "source": [
        "!ffmpeg -i yolov5/runs/detect/exp2/out.mp4 -vf fps=30 -vcodec libx264 output.mp4"
      ],
      "metadata": {
        "colab": {
          "base_uri": "https://localhost:8080/"
        },
        "id": "Br4pdqQmzCWH",
        "outputId": "c1bbde95-4715-4e79-dda3-4e808807a571"
      },
      "execution_count": 73,
      "outputs": [
        {
          "output_type": "stream",
          "name": "stdout",
          "text": [
            "ffmpeg version 3.4.11-0ubuntu0.1 Copyright (c) 2000-2022 the FFmpeg developers\n",
            "  built with gcc 7 (Ubuntu 7.5.0-3ubuntu1~18.04)\n",
            "  configuration: --prefix=/usr --extra-version=0ubuntu0.1 --toolchain=hardened --libdir=/usr/lib/x86_64-linux-gnu --incdir=/usr/include/x86_64-linux-gnu --enable-gpl --disable-stripping --enable-avresample --enable-avisynth --enable-gnutls --enable-ladspa --enable-libass --enable-libbluray --enable-libbs2b --enable-libcaca --enable-libcdio --enable-libflite --enable-libfontconfig --enable-libfreetype --enable-libfribidi --enable-libgme --enable-libgsm --enable-libmp3lame --enable-libmysofa --enable-libopenjpeg --enable-libopenmpt --enable-libopus --enable-libpulse --enable-librubberband --enable-librsvg --enable-libshine --enable-libsnappy --enable-libsoxr --enable-libspeex --enable-libssh --enable-libtheora --enable-libtwolame --enable-libvorbis --enable-libvpx --enable-libwavpack --enable-libwebp --enable-libx265 --enable-libxml2 --enable-libxvid --enable-libzmq --enable-libzvbi --enable-omx --enable-openal --enable-opengl --enable-sdl2 --enable-libdc1394 --enable-libdrm --enable-libiec61883 --enable-chromaprint --enable-frei0r --enable-libopencv --enable-libx264 --enable-shared\n",
            "  libavutil      55. 78.100 / 55. 78.100\n",
            "  libavcodec     57.107.100 / 57.107.100\n",
            "  libavformat    57. 83.100 / 57. 83.100\n",
            "  libavdevice    57. 10.100 / 57. 10.100\n",
            "  libavfilter     6.107.100 /  6.107.100\n",
            "  libavresample   3.  7.  0 /  3.  7.  0\n",
            "  libswscale      4.  8.100 /  4.  8.100\n",
            "  libswresample   2.  9.100 /  2.  9.100\n",
            "  libpostproc    54.  7.100 / 54.  7.100\n",
            "Input #0, mov,mp4,m4a,3gp,3g2,mj2, from 'yolov5/runs/detect/exp2/out.mp4':\n",
            "  Metadata:\n",
            "    major_brand     : isom\n",
            "    minor_version   : 512\n",
            "    compatible_brands: isomiso2mp41\n",
            "    encoder         : Lavf58.76.100\n",
            "  Duration: 00:10:50.00, start: 0.000000, bitrate: 5448 kb/s\n",
            "    Stream #0:0(und): Video: mpeg4 (Simple Profile) (mp4v / 0x7634706D), yuv420p, 1280x720 [SAR 1:1 DAR 16:9], 5447 kb/s, 30 fps, 30 tbr, 15360 tbn, 30 tbc (default)\n",
            "    Metadata:\n",
            "      handler_name    : VideoHandler\n",
            "Stream mapping:\n",
            "  Stream #0:0 -> #0:0 (mpeg4 (native) -> h264 (libx264))\n",
            "Press [q] to stop, [?] for help\n",
            "\u001b[1;36m[libx264 @ 0x55fd72f9f900] \u001b[0musing SAR=1/1\n",
            "\u001b[1;36m[libx264 @ 0x55fd72f9f900] \u001b[0musing cpu capabilities: MMX2 SSE2Fast SSSE3 SSE4.2 AVX FMA3 BMI2 AVX2\n",
            "\u001b[1;36m[libx264 @ 0x55fd72f9f900] \u001b[0mprofile High, level 3.1\n",
            "\u001b[1;36m[libx264 @ 0x55fd72f9f900] \u001b[0m264 - core 152 r2854 e9a5903 - H.264/MPEG-4 AVC codec - Copyleft 2003-2017 - http://www.videolan.org/x264.html - options: cabac=1 ref=3 deblock=1:0:0 analyse=0x3:0x113 me=hex subme=7 psy=1 psy_rd=1.00:0.00 mixed_ref=1 me_range=16 chroma_me=1 trellis=1 8x8dct=1 cqm=0 deadzone=21,11 fast_pskip=1 chroma_qp_offset=-2 threads=3 lookahead_threads=1 sliced_threads=0 nr=0 decimate=1 interlaced=0 bluray_compat=0 constrained_intra=0 bframes=3 b_pyramid=2 b_adapt=1 b_bias=0 direct=1 weightb=1 open_gop=0 weightp=2 keyint=250 keyint_min=25 scenecut=40 intra_refresh=0 rc_lookahead=40 rc=crf mbtree=1 crf=23.0 qcomp=0.60 qpmin=0 qpmax=69 qpstep=4 ip_ratio=1.40 aq=1:1.00\n",
            "Output #0, mp4, to 'output.mp4':\n",
            "  Metadata:\n",
            "    major_brand     : isom\n",
            "    minor_version   : 512\n",
            "    compatible_brands: isomiso2mp41\n",
            "    encoder         : Lavf57.83.100\n",
            "    Stream #0:0(und): Video: h264 (libx264) (avc1 / 0x31637661), yuv420p, 1280x720 [SAR 1:1 DAR 16:9], q=-1--1, 30 fps, 15360 tbn, 30 tbc (default)\n",
            "    Metadata:\n",
            "      handler_name    : VideoHandler\n",
            "      encoder         : Lavc57.107.100 libx264\n",
            "    Side data:\n",
            "      cpb: bitrate max/min/avg: 0/0/0 buffer size: 0 vbv_delay: -1\n",
            "frame=19500 fps= 25 q=-1.0 Lsize=  144132kB time=00:10:49.90 bitrate=1816.8kbits/s speed=0.822x    \n",
            "video:143937kB audio:0kB subtitle:0kB other streams:0kB global headers:0kB muxing overhead: 0.135235%\n",
            "\u001b[1;36m[libx264 @ 0x55fd72f9f900] \u001b[0mframe I:94    Avg QP:19.14  size: 68253\n",
            "\u001b[1;36m[libx264 @ 0x55fd72f9f900] \u001b[0mframe P:11052 Avg QP:22.93  size: 11225\n",
            "\u001b[1;36m[libx264 @ 0x55fd72f9f900] \u001b[0mframe B:8354  Avg QP:24.27  size:  2025\n",
            "\u001b[1;36m[libx264 @ 0x55fd72f9f900] \u001b[0mconsecutive B-frames: 32.1% 27.6% 14.1% 26.2%\n",
            "\u001b[1;36m[libx264 @ 0x55fd72f9f900] \u001b[0mmb I  I16..4: 16.8% 65.2% 18.0%\n",
            "\u001b[1;36m[libx264 @ 0x55fd72f9f900] \u001b[0mmb P  I16..4:  4.2% 12.7%  0.7%  P16..4: 33.0%  7.3%  3.4%  0.0%  0.0%    skip:38.7%\n",
            "\u001b[1;36m[libx264 @ 0x55fd72f9f900] \u001b[0mmb B  I16..4:  0.8%  1.6%  0.1%  B16..8: 20.7%  1.3%  0.2%  direct: 1.0%  skip:74.3%  L0:50.0% L1:46.2% BI: 3.8%\n",
            "\u001b[1;36m[libx264 @ 0x55fd72f9f900] \u001b[0m8x8 transform intra:71.2% inter:79.7%\n",
            "\u001b[1;36m[libx264 @ 0x55fd72f9f900] \u001b[0mcoded y,uvDC,uvAC intra: 34.6% 53.9% 12.3% inter: 8.0% 11.8% 0.8%\n",
            "\u001b[1;36m[libx264 @ 0x55fd72f9f900] \u001b[0mi16 v,h,dc,p: 42% 30% 17% 11%\n",
            "\u001b[1;36m[libx264 @ 0x55fd72f9f900] \u001b[0mi8 v,h,dc,ddl,ddr,vr,hd,vl,hu: 32% 22% 33%  2%  2%  2%  2%  2%  2%\n",
            "\u001b[1;36m[libx264 @ 0x55fd72f9f900] \u001b[0mi4 v,h,dc,ddl,ddr,vr,hd,vl,hu: 34% 23% 13%  4%  5%  6%  5%  5%  4%\n",
            "\u001b[1;36m[libx264 @ 0x55fd72f9f900] \u001b[0mi8c dc,h,v,p: 48% 23% 25%  4%\n",
            "\u001b[1;36m[libx264 @ 0x55fd72f9f900] \u001b[0mWeighted P-Frames: Y:3.7% UV:3.2%\n",
            "\u001b[1;36m[libx264 @ 0x55fd72f9f900] \u001b[0mref P L0: 75.1% 11.5% 10.4%  3.0%  0.0%\n",
            "\u001b[1;36m[libx264 @ 0x55fd72f9f900] \u001b[0mref B L0: 86.5% 11.7%  1.8%\n",
            "\u001b[1;36m[libx264 @ 0x55fd72f9f900] \u001b[0mref B L1: 98.0%  2.0%\n",
            "\u001b[1;36m[libx264 @ 0x55fd72f9f900] \u001b[0mkb/s:1814.04\n"
          ]
        }
      ]
    },
    {
      "cell_type": "code",
      "source": [
        "from IPython.display import HTML\n",
        "from base64 import b64encode\n",
        "mp4 = open('output.mp4','rb').read()\n",
        "data_url = \"data:video/mp4;base64,\" + b64encode(mp4).decode()"
      ],
      "metadata": {
        "id": "el7YAPTizILH"
      },
      "execution_count": 74,
      "outputs": []
    },
    {
      "cell_type": "code",
      "source": [
        "HTML(\"\"\"\n",
        "\n",
        "      %s\" type=\"video/mp4\">\n",
        "\n",
        "\"\"\" % data_url)"
      ],
      "metadata": {
        "id": "0vr3E9MezLbx"
      },
      "execution_count": 75,
      "outputs": []
    },
    {
      "cell_type": "code",
      "source": [],
      "metadata": {
        "id": "0q5J6Fwa8ksp"
      },
      "execution_count": null,
      "outputs": []
    }
  ]
}